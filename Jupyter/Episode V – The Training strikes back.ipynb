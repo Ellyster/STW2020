{
 "cells": [
  {
   "cell_type": "markdown",
   "metadata": {},
   "source": [
    "# Movie Wars\n",
    "## ~ Episode IV – The training strikes back ~"
   ]
  },
  {
   "cell_type": "markdown",
   "metadata": {},
   "source": [
    "First of all, we should set the notebook so that it outputs all results of each cell and not only the last one."
   ]
  },
  {
   "cell_type": "code",
   "execution_count": 1,
   "metadata": {},
   "outputs": [],
   "source": [
    "from IPython.core.interactiveshell import InteractiveShell\n",
    "InteractiveShell.ast_node_interactivity = \"all\""
   ]
  },
  {
   "cell_type": "markdown",
   "metadata": {},
   "source": [
    "And import all the python libraries needed for this step."
   ]
  },
  {
   "cell_type": "code",
   "execution_count": 2,
   "metadata": {
    "scrolled": true
   },
   "outputs": [],
   "source": [
    "import math\n",
    "import pandas as pd\n",
    "from sklearn.ensemble import RandomForestRegressor\n",
    "from sklearn.neighbors import KNeighborsRegressor\n",
    "from sklearn.neural_network import MLPRegressor"
   ]
  },
  {
   "cell_type": "markdown",
   "metadata": {},
   "source": [
    "Next we will define a naïve model to act as baseline, it will return the average of the targets for regardless of the input."
   ]
  },
  {
   "cell_type": "code",
   "execution_count": 3,
   "metadata": {},
   "outputs": [],
   "source": [
    "class naive():\n",
    "    def fit(self, train, test):\n",
    "        self.__mean = test.mean()\n",
    "    \n",
    "    def predict(self, examples):\n",
    "        return [self.__mean] * len(examples)"
   ]
  },
  {
   "cell_type": "markdown",
   "metadata": {},
   "source": [
    "Finally, we state where our data sources are."
   ]
  },
  {
   "cell_type": "code",
   "execution_count": 4,
   "metadata": {},
   "outputs": [],
   "source": [
    "data_folder_path = 'data\\\\'\n",
    "\n",
    "ratings_training_file_path = data_folder_path + 'ratings_training_data_basic_split_reduced.csv'\n",
    "ratings_test_file_path = data_folder_path + 'ratings_test_data_basic_split.csv'"
   ]
  },
  {
   "cell_type": "markdown",
   "metadata": {},
   "source": [
    "And load the data."
   ]
  },
  {
   "cell_type": "code",
   "execution_count": 5,
   "metadata": {},
   "outputs": [],
   "source": [
    "ratings_training_data = pd.read_csv(ratings_training_file_path, sep = ';', index_col = False)\n",
    "ratings_test_data = pd.read_csv(ratings_test_file_path, sep = ';', index_col = False)"
   ]
  },
  {
   "cell_type": "markdown",
   "metadata": {},
   "source": [
    "Now, we are ready to start with the prototyping process."
   ]
  },
  {
   "cell_type": "markdown",
   "metadata": {},
   "source": [
    "## Selecting the target feature\n",
    "\n",
    "We especify that our goal is to predict the **rating** of a movie for an user."
   ]
  },
  {
   "cell_type": "code",
   "execution_count": 6,
   "metadata": {},
   "outputs": [],
   "source": [
    "y_train = ratings_training_data['rating']\n",
    "y_test = ratings_test_data['rating']"
   ]
  },
  {
   "cell_type": "markdown",
   "metadata": {},
   "source": [
    "## Training the models"
   ]
  },
  {
   "cell_type": "markdown",
   "metadata": {},
   "source": [
    "We will build prototypes with various approaches to solve the recommendation problem:\n",
    "\n",
    "- Naïve (mean rating)\n",
    "- K-Nearest Neighbors\n",
    "- Random Forest\n",
    "- Artificial Neural Network\n",
    "- Matrix Factorization"
   ]
  },
  {
   "cell_type": "markdown",
   "metadata": {},
   "source": [
    "### Naïve\n",
    "\n",
    "This model will always return the mean of all ratings."
   ]
  },
  {
   "cell_type": "code",
   "execution_count": 7,
   "metadata": {},
   "outputs": [],
   "source": [
    "naive_x_train = [None] * len(ratings_training_data)\n",
    "\n",
    "NAIVE = naive()\n",
    "\n",
    "NAIVE.fit(naive_x_train, y_train)"
   ]
  },
  {
   "cell_type": "markdown",
   "metadata": {},
   "source": [
    "### K-Nearest Neighbors\n",
    "\n",
    "This model looks for the **K ratings most similar to a given one** and uses them to estimate the value of the unknown rating."
   ]
  },
  {
   "cell_type": "code",
   "execution_count": 8,
   "metadata": {},
   "outputs": [
    {
     "data": {
      "text/plain": [
       "KNeighborsRegressor(algorithm='auto', leaf_size=30, metric='manhattan',\n",
       "                    metric_params=None, n_jobs=None, n_neighbors=40, p=2,\n",
       "                    weights='uniform')"
      ]
     },
     "execution_count": 8,
     "metadata": {},
     "output_type": "execute_result"
    }
   ],
   "source": [
    "features_used_for_KNN = ['user_age', 'user_gender', 'movie_year', 'genre_affinity', 'user_movies_epoch']\n",
    "\n",
    "knn_x_train = ratings_training_data[features_used_for_KNN]\n",
    "\n",
    "KNN = KNeighborsRegressor(n_neighbors = 40, metric = 'manhattan')\n",
    "\n",
    "KNN.fit(knn_x_train, y_train)"
   ]
  },
  {
   "cell_type": "markdown",
   "metadata": {},
   "source": [
    "### Random Forest\n",
    "\n",
    "This model based on trees allows the use of information from the **categorical features** in a cleaner and versatile way."
   ]
  },
  {
   "cell_type": "code",
   "execution_count": 9,
   "metadata": {},
   "outputs": [
    {
     "data": {
      "text/plain": [
       "RandomForestRegressor(bootstrap=True, criterion='mse', max_depth=12,\n",
       "                      max_features='auto', max_leaf_nodes=None,\n",
       "                      min_impurity_decrease=0.0, min_impurity_split=None,\n",
       "                      min_samples_leaf=1, min_samples_split=2,\n",
       "                      min_weight_fraction_leaf=0.0, n_estimators=20,\n",
       "                      n_jobs=None, oob_score=False, random_state=1, verbose=0,\n",
       "                      warm_start=False)"
      ]
     },
     "execution_count": 9,
     "metadata": {},
     "output_type": "execute_result"
    }
   ],
   "source": [
    "Movie_genres = ['Action','Adventure','Animation',\"Children's\",'Comedy','Crime','Documentary','Drama','Fantasy','Film-Noir','Horror',\n",
    " 'Musical','Mystery','Romance','Sci-Fi','Thriller','War','Western']\n",
    "\n",
    "features_used_for_RF = [ 'user_age', 'user_gender', 'user_occupation_category', 'user_movies_epoch', 'movie_year'\n",
    "                        ,'genre_affinity'] + Movie_genres\n",
    "\n",
    "rf_x_train = ratings_training_data[features_used_for_RF]\n",
    "\n",
    "RF = RandomForestRegressor(max_depth=12, random_state=1, n_estimators = 20, criterion = 'mse')\n",
    "\n",
    "RF.fit(rf_x_train, y_train)"
   ]
  },
  {
   "cell_type": "markdown",
   "metadata": {},
   "source": [
    "### Artificial Neural Network\n",
    "\n",
    "This model uses **perceptrons** to estimate the movie ratings based on numerical input features."
   ]
  },
  {
   "cell_type": "code",
   "execution_count": 10,
   "metadata": {},
   "outputs": [
    {
     "data": {
      "text/plain": [
       "MLPRegressor(activation='relu', alpha=0.0001, batch_size='auto', beta_1=0.9,\n",
       "             beta_2=0.999, early_stopping=False, epsilon=1e-08,\n",
       "             hidden_layer_sizes=(20, 15, 10, 5, 3), learning_rate='constant',\n",
       "             learning_rate_init=0.001, max_iter=1000, momentum=0.9,\n",
       "             n_iter_no_change=10, nesterovs_momentum=True, power_t=0.5,\n",
       "             random_state=None, shuffle=True, solver='adam', tol=0.0001,\n",
       "             validation_fraction=0.1, verbose=False, warm_start=False)"
      ]
     },
     "execution_count": 10,
     "metadata": {},
     "output_type": "execute_result"
    }
   ],
   "source": [
    "features_used_for_NN = ['user_age', 'user_gender', 'user_occupation_category','user_movies_epoch'\n",
    "                        ,'movie_year', 'genre_affinity'] + Movie_genres\n",
    "\n",
    "nn_x_train = ratings_training_data[features_used_for_NN]\n",
    "\n",
    "NN = MLPRegressor(hidden_layer_sizes = (20, 15, 10, 5, 3), activation = 'relu', max_iter = 1000)\n",
    "\n",
    "NN.fit(nn_x_train, y_train)"
   ]
  },
  {
   "cell_type": "markdown",
   "metadata": {},
   "source": [
    "### Matrix Factorization\n",
    "\n",
    "This model is specially designed to for recommendation systems and uses only the ratings. \n",
    "\n",
    "It has been implemented using **ML.NET (C#)**, in this notebook we will only need its predictions, so we will cover the model itself later on this workshop."
   ]
  },
  {
   "cell_type": "markdown",
   "metadata": {},
   "source": [
    "## Making predictions\n",
    "\n",
    "We select the required features for each model on the test dataset."
   ]
  },
  {
   "cell_type": "code",
   "execution_count": 11,
   "metadata": {},
   "outputs": [],
   "source": [
    "naive_x_test = [None] * len(ratings_test_data)\n",
    "knn_x_test = ratings_test_data[features_used_for_KNN]\n",
    "rf_x_test = ratings_test_data[features_used_for_RF]\n",
    "nn_x_test = ratings_test_data[features_used_for_NN]"
   ]
  },
  {
   "cell_type": "markdown",
   "metadata": {},
   "source": [
    "Generate predictions for it."
   ]
  },
  {
   "cell_type": "code",
   "execution_count": 17,
   "metadata": {},
   "outputs": [],
   "source": [
    "python_predictions = pd.DataFrame()\n",
    "\n",
    "python_predictions['actual'] = y_test\n",
    "python_predictions['naive_pred'] = NAIVE.predict(ratings_test_data)\n",
    "python_predictions['knn_pred'] = KNN.predict(knn_x_test)\n",
    "python_predictions['rf_pred'] = RF.predict(rf_x_test)\n",
    "python_predictions['nn_pred'] = NN.predict(nn_x_test)"
   ]
  },
  {
   "cell_type": "markdown",
   "metadata": {},
   "source": [
    "And add the predictions of the matrix factorization model."
   ]
  },
  {
   "cell_type": "code",
   "execution_count": 24,
   "metadata": {},
   "outputs": [],
   "source": [
    "mf_predictions = pd.read_csv(data_folder_path + 'matrix_factorization_predictions.csv', header = 10, sep = ';')\n",
    "mf_predictions = mf_predictions.dropna()\n",
    "\n",
    "mldotnet_predictions = pd.DataFrame({\n",
    "    'actual': mf_predictions.Label,\n",
    "    'mf_pred': [float(x) for x in mf_predictions.Score]\n",
    "})"
   ]
  },
  {
   "cell_type": "markdown",
   "metadata": {},
   "source": [
    "## Results\n",
    "\n",
    "Finally, we save the results of the predictions with the different models."
   ]
  },
  {
   "cell_type": "code",
   "execution_count": 25,
   "metadata": {},
   "outputs": [],
   "source": [
    "python_predictions.to_csv(data_folder_path + 'python_predictions.csv', sep = ';')\n",
    "mldotnet_predictions.to_csv(data_folder_path + 'mldotnet_predictions.csv', sep = ';')"
   ]
  }
 ],
 "metadata": {
  "kernelspec": {
   "display_name": "Python 3",
   "language": "python",
   "name": "python3"
  },
  "language_info": {
   "codemirror_mode": {
    "name": "ipython",
    "version": 3
   },
   "file_extension": ".py",
   "mimetype": "text/x-python",
   "name": "python",
   "nbconvert_exporter": "python",
   "pygments_lexer": "ipython3",
   "version": "3.7.5"
  }
 },
 "nbformat": 4,
 "nbformat_minor": 4
}
