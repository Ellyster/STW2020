{
 "cells": [
  {
   "cell_type": "markdown",
   "metadata": {},
   "source": [
    "# Movie Wars\n",
    "## ~ Episode III – Revenge of the Outliers  ~"
   ]
  },
  {
   "cell_type": "markdown",
   "metadata": {},
   "source": [
    "First of all, we should set the notebook so that it outputs all results of each cell and not only the last one."
   ]
  },
  {
   "cell_type": "code",
   "execution_count": 5,
   "metadata": {},
   "outputs": [],
   "source": [
    "from IPython.core.interactiveshell import InteractiveShell\n",
    "InteractiveShell.ast_node_interactivity = \"all\""
   ]
  },
  {
   "cell_type": "markdown",
   "metadata": {},
   "source": [
    "And import all the python libraries needed for this step."
   ]
  },
  {
   "cell_type": "code",
   "execution_count": 6,
   "metadata": {},
   "outputs": [],
   "source": [
    "#import time\n",
    "#import math\n",
    "#import numpy as np\n",
    "import pandas as pd\n",
    "import seaborn as sns\n",
    "from collections import Counter\n",
    "from sklearn.model_selection import train_test_split\n",
    "from sklearn.utils import shuffle"
   ]
  },
  {
   "cell_type": "markdown",
   "metadata": {},
   "source": [
    "Next, we state where our data sources are."
   ]
  },
  {
   "cell_type": "code",
   "execution_count": 7,
   "metadata": {},
   "outputs": [],
   "source": [
    "data_folder_path = 'data\\\\'\n",
    "\n",
    "movies_file_path = data_folder_path + 'movies_with_genre_and_year.csv'\n",
    "users_file_path = data_folder_path + 'users_with_age_interval_and_occupation.csv'\n",
    "ratings_file_path = data_folder_path + 'ratings.csv'\n",
    "ratings_by_user_file_path  = data_folder_path + 'ratings_by_user_data.csv'"
   ]
  },
  {
   "cell_type": "markdown",
   "metadata": {},
   "source": [
    "And load the data."
   ]
  },
  {
   "cell_type": "code",
   "execution_count": 8,
   "metadata": {},
   "outputs": [],
   "source": [
    "all_movies = pd.read_csv(movies_file_path, sep = ';', index_col = 'ID')\n",
    "all_users = pd.read_csv(users_file_path, sep = ';', index_col = 'Id')\n",
    "all_ratings = pd.read_csv(ratings_file_path, sep = ',')\n",
    "ratings_by_user = pd.read_csv(ratings_by_user_file_path, sep = ';')"
   ]
  },
  {
   "cell_type": "markdown",
   "metadata": {},
   "source": [
    "Now, we are ready to start with the feature engineering process."
   ]
  },
  {
   "cell_type": "markdown",
   "metadata": {},
   "source": [
    "### Filtering data"
   ]
  },
  {
   "cell_type": "markdown",
   "metadata": {},
   "source": [
    "## Transforming features"
   ]
  },
  {
   "cell_type": "markdown",
   "metadata": {},
   "source": [
    "### Normalizing Movie Year feature\n",
    "\n",
    "We split the 20th century into 4 epochs:\n",
    "\n",
    " - **(1900 - 1939)**: black and white movies and silent movies.\n",
    " - **(1939 - 1970)**: western movies and classic movies.\n",
    " - **(1970, 1985)**: first world famous actors, classic action movies, first blockbusters and color movies.\n",
    " - **(1985, 1995)**: future based topics, introduction of special effects\n",
    " - **(1995, 2000)**: sci-fi, new age movies and computer effects."
   ]
  },
  {
   "cell_type": "code",
   "execution_count": 9,
   "metadata": {},
   "outputs": [],
   "source": [
    "def movie_year_normalization(year):\n",
    "    if year < 1939:\n",
    "        return 0\n",
    "    if year < 1970:\n",
    "        return 0.25\n",
    "    if year < 1985:\n",
    "        return 0.5\n",
    "    if year < 1995:\n",
    "        return 0.75\n",
    "    return 1\n",
    "\n",
    "all_movies['Year_normalized'] = all_movies['Year'].apply(movie_year_normalization)"
   ]
  },
  {
   "cell_type": "markdown",
   "metadata": {},
   "source": [
    "### Changing the class mark for the users' age"
   ]
  },
  {
   "cell_type": "markdown",
   "metadata": {},
   "source": [
    "To improve the age feature we can set the **age** class mark as de midpoint of the interval rather than a extreme of the same."
   ]
  },
  {
   "cell_type": "code",
   "execution_count": 10,
   "metadata": {},
   "outputs": [],
   "source": [
    "centered_user_ages = {1: (0 + 17)/2, 18: (18 + 24)/2, 25: (25 + 34)/2, 35: (35 + 44)/2, 45: (45 + 49)/2, 50: (50 + 55)/2, 56: (56 + 70)/2}\n",
    "\n",
    "all_users['Age'] = all_users['Age'].map(lambda x: centered_user_ages[x])"
   ]
  },
  {
   "cell_type": "markdown",
   "metadata": {},
   "source": [
    "### Normalizing the users' age values"
   ]
  },
  {
   "cell_type": "markdown",
   "metadata": {},
   "source": [
    "We use the **min-max** normalization with users age."
   ]
  },
  {
   "cell_type": "code",
   "execution_count": 11,
   "metadata": {},
   "outputs": [],
   "source": [
    "minimun_age = min(all_users['Age'])\n",
    "maximun_age = max(all_users['Age'])\n",
    "\n",
    "all_users['Age_normalized'] = all_users['Age'].apply(lambda x: ((x-minimun_age)/(maximun_age - minimun_age)))"
   ]
  },
  {
   "cell_type": "markdown",
   "metadata": {},
   "source": [
    "### Grouping the users' occupation"
   ]
  },
  {
   "cell_type": "markdown",
   "metadata": {},
   "source": [
    "To improve the occupation feature we can regroup its classes in **fewer categories** and make them **more balanced**."
   ]
  },
  {
   "cell_type": "code",
   "execution_count": 12,
   "metadata": {
    "scrolled": true
   },
   "outputs": [],
   "source": [
    "user_occupations_categories = {1: 'artist', 2: 'craftsmen', 3: 'engineer', 4: 'academic', 5: 'student', 6: 'customer-fancing',\n",
    "                       7: 'other', 8:'unemployed', 9: 'high-wage'}\n",
    "\n",
    "occupations_map = {20: 1, 2: 1, 18: 2, 8: 2, 9: 2, 12: 3, 17: 3, 15:4 ,1: 4, 10: 5, 4: 5, 16: 6, 14: 6, 5: 6, 0: 7, 3: 7, \n",
    "                  19: 8, 13: 8, 6: 9, 7: 9, 11: 9}\n",
    "\n",
    "all_users['Occupation_category'] = all_users['Occupation'].map(lambda x: occupations_map[x])"
   ]
  },
  {
   "cell_type": "markdown",
   "metadata": {},
   "source": [
    "Let's see how it looks now."
   ]
  },
  {
   "cell_type": "code",
   "execution_count": 13,
   "metadata": {
    "scrolled": true
   },
   "outputs": [
    {
     "data": {
      "image/png": "[encoded data removed]",
      "text/plain": [
       "<Figure size 432x288 with 1 Axes>"
      ]
     },
     "metadata": {
      "needs_background": "light"
     },
     "output_type": "display_data"
    }
   ],
   "source": [
    "all_users['Occupation_category_decoded'] = all_users['Occupation_category'].map(lambda x: user_occupations_categories[x])\n",
    "\n",
    "occupation_distribution = pd.DataFrame({\n",
    "    'Occupation': list(Counter(all_users.Occupation_category_decoded).keys()),\n",
    "    'Count': list(Counter(all_users.Occupation_category_decoded).values()),\n",
    "})\n",
    "\n",
    "occupations_order = occupation_distribution.sort_values(by = 'Count', ascending = False)['Occupation']\n",
    "\n",
    "occupation_barplot = sns.barplot(x = \"Occupation\", y = \"Count\", data = occupation_distribution, order = occupations_order)\n",
    "occupation_barplot.set_xticklabels(occupation_barplot.get_xticklabels(), rotation=45, horizontalalignment='right')\n",
    "occupation_barplot.set_title(\"Users' occupation distribution\");"
   ]
  },
  {
   "cell_type": "markdown",
   "metadata": {},
   "source": [
    "## Transforming users gender feature into binary\n",
    "\n",
    "For model learning purposes, we transform the feature of users Gender from string type to binary"
   ]
  },
  {
   "cell_type": "code",
   "execution_count": 14,
   "metadata": {},
   "outputs": [],
   "source": [
    "all_users['Gender'] = all_users['Gender'].map(lambda value: 1 if value == 'F' else 0)"
   ]
  },
  {
   "cell_type": "markdown",
   "metadata": {},
   "source": [
    "## Improving the profiles"
   ]
  },
  {
   "cell_type": "markdown",
   "metadata": {},
   "source": [
    "### Users\n",
    "\n",
    "We can use information about the movies rated by each user for improving our models performance. We can **average the ratings** of movies corresponding to a given **Genre** and recover information about the **Year** of these movies. This could help us to find patterns among the users."
   ]
  },
  {
   "cell_type": "code",
   "execution_count": 15,
   "metadata": {
    "scrolled": true
   },
   "outputs": [],
   "source": [
    "Movie_genres = ['Action','Adventure','Animation',\"Children's\",'Comedy','Crime','Documentary','Drama','Fantasy','Film-Noir','Horror',\n",
    " 'Musical','Mystery','Romance','Sci-Fi','Thriller','War','Western']\n",
    "\n",
    "all_users['id_movies_rated'] = all_users.index.map(lambda x: list(all_ratings[all_ratings['user'] == x]['movie']))\n",
    "all_users['count_movies_rated'] = all_users['id_movies_rated'].map(lambda x: len(x))\n",
    "\n",
    "for genre in Movie_genres:\n",
    "    Movies_genre = all_movies[all_movies[genre] > 0].index\n",
    "    for \n",
    "    #all_users[genre + '_mean_rating'] = all_users.id_movies_rated.apply(lambda x: round(all_ratings[all_ratings['movie'].isin(set(x) & set(Movies_genre))].rating.mean(), 3))\n",
    "    #all_users[genre + '_rating_count'] = all_users.id_movies_rated.map(lambda x: len(all_movies[(all_movies.index.isin(x)) & (all_movies[genre] == 1)]))\n",
    "\n",
    "all_users['Epoch_of_rated_movies'] = all_users['id_movies_rated'].map(lambda x: round(all_movies[all_movies.index.isin(list(x))]['Year'].mean(), 3))\n",
    "all_users['Epoch_of_rated_movies_std'] = all_users['id_movies_rated'].map(lambda x: round(all_movies[all_movies.index.isin(list(x))]['Year'].std(), 3))"
   ]
  },
  {
   "cell_type": "markdown",
   "metadata": {},
   "source": [
    "### Affinity coefficient\n",
    "\n",
    "After computing the average rating per genre for each user, we *combine** it with the information of the **movies genre** in the ratings data. **For each rating** we average the mean ratings related to the movie and the **user inclination**. By doing this, we **build an approximation of the ratings** we will use for models training and we call it genre_affinity. Moreover we recover the information of genre for each rating movie."
   ]
  },
  {
   "cell_type": "code",
   "execution_count": 16,
   "metadata": {},
   "outputs": [],
   "source": [
    "for genre in Movie_genres:\n",
    "    all_ratings[genre + '_user_affinity'] = all_ratings.apply(lambda row: round(all_users.at[int(row['user']), genre + '_mean_rating'] * all_movies.at[int(row['movie']), genre], 3), axis = 1)\n",
    "    all_ratings[genre] = all_ratings.apply(lambda row: all_movies.at[int(row['movie']), genre], axis = 1)\n",
    "\n",
    "all_ratings['genre_affinity'] = all_ratings[[genre + '_user_affinity' for genre in Movie_genres]].mean(axis = 1)"
   ]
  },
  {
   "cell_type": "markdown",
   "metadata": {},
   "source": [
    "By last, we recover features related to **users (age, gender, occupation, movies rated epoch)** and **movies (movie_year)** and movies we built before in order to extend the ratings data. "
   ]
  },
  {
   "cell_type": "code",
   "execution_count": 19,
   "metadata": {},
   "outputs": [],
   "source": [
    "all_ratings['user_age'] = all_ratings['user'].apply(lambda x: all_users.at[x, 'Age'])\n",
    "all_ratings['user_gender'] = all_ratings['user'].apply(lambda x: all_users.at[x, 'Gender'])\n",
    "all_ratings['user_occupation_category'] = all_ratings['user'].apply(lambda x: all_users.at[x, 'Occupation_category'])\n",
    "all_ratings['user_movies_epoch'] = all_ratings['user'].apply(lambda x: all_users.at[x, 'Epoch_of_rated_movies'])\n",
    "all_ratings['movie_year'] = all_ratings['movie'].apply(lambda x: all_movies.at[x, 'Year'])"
   ]
  },
  {
   "cell_type": "markdown",
   "metadata": {},
   "source": [
    "## Removing noise"
   ]
  },
  {
   "cell_type": "markdown",
   "metadata": {},
   "source": [
    "Thankfully in a recommendation system based on ratings, neither missing values nor measurement noise exists. \n",
    "\n",
    "But there are still some things that we can do to improve the quality of the dataset."
   ]
  },
  {
   "cell_type": "markdown",
   "metadata": {},
   "source": [
    "### Outliers\n",
    "\n",
    "Outlier are a data points that differ significantly from other observations. In the case of our users, we can find two groups of them:\n",
    "- The *\"haters\"* that rate everything negatively\n",
    "- The *\"lovers\"* that rate everything as perfect"
   ]
  },
  {
   "cell_type": "code",
   "execution_count": 24,
   "metadata": {},
   "outputs": [
    {
     "name": "stdout",
     "output_type": "stream",
     "text": [
      "Number of haters: 30 (0.5%)\n",
      "Number of lovers: 32 (0.53%)\n"
     ]
    }
   ],
   "source": [
    "haters = list(ratings_by_user[(ratings_by_user['Mean rating'] < 2.5) & (ratings_by_user['Rating deviation'] < 2)].index)\n",
    "lovers = list(ratings_by_user[(ratings_by_user['Mean rating'] > 4) & (ratings_by_user['Rating deviation'] < 0.6)].index)\n",
    "\n",
    "print(f\"Number of haters: {len(haters)} ({round(100*len(haters)/len(all_users), 2)}%)\")\n",
    "print(f\"Number of lovers: {len(lovers)} ({round(100*len(lovers)/len(all_users), 2)}%)\")"
   ]
  },
  {
   "cell_type": "markdown",
   "metadata": {},
   "source": [
    "For models based on **user profiling**, we need to **remove** this anomalous users to improve the gereralization of the profiles. But for models based on **closest neighbors**, those anomalous users can be actually very helpful so is better to **keep** them."
   ]
  },
  {
   "cell_type": "markdown",
   "metadata": {},
   "source": [
    "###  Lack of ratings\n",
    "\n",
    "For models based on user profiling, it is also important to **remove** users with very few ratings."
   ]
  },
  {
   "cell_type": "code",
   "execution_count": 26,
   "metadata": {},
   "outputs": [
    {
     "name": "stdout",
     "output_type": "stream",
     "text": [
      "People with few ratings: 438 (7.25%)\n"
     ]
    }
   ],
   "source": [
    "users_with_few_ratings = list(ratings_by_user[ratings_by_user['Rating count'] < 30].index)\n",
    "\n",
    "print(f\"People with few ratings: {len(users_with_few_ratings)} ({round(100*len(users_with_few_ratings)/len(all_users), 2)}%)\")"
   ]
  },
  {
   "cell_type": "markdown",
   "metadata": {},
   "source": [
    "## Spliting the data\n",
    "\n",
    "We can consider two ways of spliting our data set into 80% training and 20% testing sets, the first option is just to do a **random sampling split**. "
   ]
  },
  {
   "cell_type": "code",
   "execution_count": 47,
   "metadata": {},
   "outputs": [],
   "source": [
    "classic_train_data, classic_test_data = train_test_split(all_ratings, test_size = 0.2)"
   ]
  },
  {
   "cell_type": "markdown",
   "metadata": {},
   "source": [
    "The second one is to first add **at least one rating** for each film and one rating for each user to the training set and **fill the remaining capacity up to 80% randomly**, this warranties no movie nor user in our test set will not have a rating."
   ]
  },
  {
   "cell_type": "code",
   "execution_count": 51,
   "metadata": {},
   "outputs": [],
   "source": [
    "def minimum_random_sampling(dataset):\n",
    "    selected_users = set()\n",
    "    selected_movies = set()\n",
    "    selected_ratings = []\n",
    "    \n",
    "    shuffled_dataset = shuffle(dataset)\n",
    "    \n",
    "    for index, row in shuffled_dataset.iterrows():\n",
    "        if row.user not in selected_users or row.movie not in selected_movies :\n",
    "            selected_users |= {row.user}\n",
    "            selected_movies |= {row.movie}\n",
    "            selected_ratings.append(row.id)\n",
    "    \n",
    "    return (dataset[dataset.index.isin(selected_ratings)], dataset[~dataset.index.isin(selected_ratings)])\n",
    "\n",
    "def special_random_sampling(dataset, test_size = 0.2):   \n",
    "    (minimum, remaining) = minimum_random_sampling(dataset)\n",
    "    (train, test) = train_test_split(remaining, test_size = test_size * (len(dataset)/(len(dataset) - len(minimum))))\n",
    "    \n",
    "    return (train.append(minimum), test)"
   ]
  },
  {
   "cell_type": "markdown",
   "metadata": {},
   "source": [
    "This second approach must be taken when the model selected cannot handle unseen movies/users during training."
   ]
  },
  {
   "cell_type": "code",
   "execution_count": 52,
   "metadata": {},
   "outputs": [],
   "source": [
    "(special_train_data, special_test_data) = special_random_sampling(all_ratings)"
   ]
  },
  {
   "cell_type": "markdown",
   "metadata": {},
   "source": [
    "We want to remove the outliers and users with few ratings **only from the training set**, and only for ceirtaing models. If we were to remove them from the test set, our metrics wouldn't be valid."
   ]
  },
  {
   "cell_type": "code",
   "execution_count": 53,
   "metadata": {},
   "outputs": [],
   "source": [
    "classic_train_data_reduced = classic_train_data[(~classic_train_data['user'].isin(haters)) & (~classic_train_data['user'].isin(lovers)) & (~classic_train_data['user'].isin(users_with_few_ratings))]\n",
    "special_train_data_reduced = special_train_data[(~special_train_data['user'].isin(haters)) & (~special_train_data['user'].isin(lovers)) & (~special_train_data['user'].isin(users_with_few_ratings))]"
   ]
  },
  {
   "cell_type": "markdown",
   "metadata": {},
   "source": [
    "## Results"
   ]
  },
  {
   "cell_type": "markdown",
   "metadata": {},
   "source": [
    "Finally, we save the resulting training and testing sets."
   ]
  },
  {
   "cell_type": "code",
   "execution_count": 59,
   "metadata": {},
   "outputs": [],
   "source": [
    "features = ['rating', 'user_age', 'user_gender', 'user_occupation_category', 'user_movies_epoch', 'movie_year', 'genre_affinity'] + Movie_genres\n",
    "\n",
    "classic_train_data[features].to_csv(data_folder_path + 'ratings_training_data_basic_split.csv', sep = ';')\n",
    "classic_train_data_reduced[features].to_csv(data_folder_path + 'ratings_training_data_basic_split_reduced.csv', sep = ';')\n",
    "classic_test_data[features].to_csv(data_folder_path + 'ratings_test_data_basic_split.csv', sep = ';')\n",
    "\n",
    "special_train_data[features].to_csv(data_folder_path +'ratings_training_data_special_split.csv', sep = ';')\n",
    "special_train_data_reduced[features].to_csv(data_folder_path +'ratings_training_data_special_split_reduced.csv', sep = ';')\n",
    "special_test_data[features].to_csv(data_folder_path +'ratings_test_data_special_split.csv', sep = ';')"
   ]
  }
 ],
 "metadata": {
  "kernelspec": {
   "display_name": "Python 3",
   "language": "python",
   "name": "python3"
  },
  "language_info": {
   "codemirror_mode": {
    "name": "ipython",
    "version": 3
   },
   "file_extension": ".py",
   "mimetype": "text/x-python",
   "name": "python",
   "nbconvert_exporter": "python",
   "pygments_lexer": "ipython3",
   "version": "3.7.5"
  }
 },
 "nbformat": 4,
 "nbformat_minor": 2
}
